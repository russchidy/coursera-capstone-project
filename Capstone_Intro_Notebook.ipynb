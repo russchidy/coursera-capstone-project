{
    "cells": [
        {
            "cell_type": "markdown",
            "metadata": {
                "collapsed": true
            },
            "source": "Capstone AI Data Science project \n1. Use IBM Watson Studio and its in-built Python IDE to perform analysis on neighbourhood data \n(Russ: see if i can also use and Share this notebook with collaborators via IBM cloud share??);\n\n2. share the BM Watson Studio in-built Python project on github via a token and publishing the project from your github repository, (using the integration link in your IBM Cloud account,click on the user settings with your name initials)\n\nGithub step: on github go to Settings>Developer settings>Personal access tokens>generate new token>\nthen give it a name, give yourself full access by selecting all the access rights options, generate and copy the token.\n\nIBM Cloud account step: taken the generated token and past it into the Git Integrations page cloud.ibm.com/settings/integrations\nAfter the access token is saved, a GitHub repository can be connected to the project on the project's Settings page.\n\n3. Link the Watson studio project to a Github repository, you can link to an exisiting rep or create a new one (preferred).\nGithub step: on github go to + sign next to user name and the resulting drop down menu has an option to add a new repository.\ngive it a name e.g. coursera-capstone-project, click the option to add a long Readme File, this is best practice.\n\n4. Link the new Github repository to the Watson studio project\nIBM Cloud account step: go to Projects, click on this project and click on settings, scroll down to Integrations/github and add the github url e.g. https://github.com/russchidy/coursera-capstone-project\n\n5. check that the in-built Python IDE shows up under your project assets e.g. Projects/Coursera_Capstone/Assets, then click on it...then click edit...then click the publish icon, (its next to the share icon)...choose Publish on Github"
        },
        {
            "cell_type": "markdown",
            "metadata": {},
            "source": ""
        },
        {
            "cell_type": "code",
            "execution_count": 2,
            "metadata": {},
            "outputs": [],
            "source": "# The code was removed by Watson Studio for sharing."
        },
        {
            "cell_type": "code",
            "execution_count": 4,
            "metadata": {},
            "outputs": [
                {
                    "ename": "SyntaxError",
                    "evalue": "invalid syntax (<ipython-input-4-be9cf045294a>, line 1)",
                    "output_type": "error",
                    "traceback": [
                        "\u001b[0;36m  File \u001b[0;32m\"<ipython-input-4-be9cf045294a>\"\u001b[0;36m, line \u001b[0;32m1\u001b[0m\n\u001b[0;31m    git checkout -b branch2 origin/master\u001b[0m\n\u001b[0m        ^\u001b[0m\n\u001b[0;31mSyntaxError\u001b[0m\u001b[0;31m:\u001b[0m invalid syntax\n"
                    ]
                }
            ],
            "source": ""
        },
        {
            "cell_type": "code",
            "execution_count": null,
            "metadata": {},
            "outputs": [],
            "source": ""
        }
    ],
    "metadata": {
        "kernelspec": {
            "display_name": "Python 3.8",
            "language": "python",
            "name": "python3"
        },
        "language_info": {
            "codemirror_mode": {
                "name": "ipython",
                "version": 3
            },
            "file_extension": ".py",
            "mimetype": "text/x-python",
            "name": "python",
            "nbconvert_exporter": "python",
            "pygments_lexer": "ipython3",
            "version": "3.8.11"
        }
    },
    "nbformat": 4,
    "nbformat_minor": 1
}